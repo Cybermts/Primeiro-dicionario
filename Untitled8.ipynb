{
  "nbformat": 4,
  "nbformat_minor": 0,
  "metadata": {
    "colab": {
      "provenance": [],
      "authorship_tag": "ABX9TyMnPz5TWulDBUu4mxF9zbz6"
    },
    "kernelspec": {
      "name": "python3",
      "display_name": "Python 3"
    },
    "language_info": {
      "name": "python"
    }
  },
  "cells": [
    {
      "cell_type": "markdown",
      "source": [
        "## Descobrindo qual é a posição da letra N\n"
      ],
      "metadata": {
        "id": "Bh0ncbEXCCq_"
      }
    },
    {
      "cell_type": "code",
      "source": [
        "letra = input() \n",
        "letra = letra.upper()\n",
        "\n",
        "alfabeto ={'A':1,'B':2,'C':3,'D':4,'E':5,'F':6,'G':7,'H':8,'I':9,\n",
        "           'J':10,'K':11,'L':12,'M':13,'N':14,'O':15,'P':16,'Q':17,'R':18,'S':19,\n",
        "           'T':20,'U':21,'V':22,'W':23,'X':24,'Y':25,'Z':26}\n",
        "print(alfabeto [letra])\n"
      ],
      "metadata": {
        "colab": {
          "base_uri": "https://localhost:8080/"
        },
        "id": "2NIDLKLYqVoT",
        "outputId": "811f2bc7-e948-4902-eee0-a91d43c32ac0"
      },
      "execution_count": 12,
      "outputs": [
        {
          "output_type": "stream",
          "name": "stdout",
          "text": [
            "N\n",
            "14\n"
          ]
        }
      ]
    }
  ]
}